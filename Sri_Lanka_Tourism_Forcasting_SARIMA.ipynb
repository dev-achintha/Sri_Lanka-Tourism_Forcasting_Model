{
  "cells": [
    {
      "cell_type": "code",
      "execution_count": null,
      "metadata": {
        "id": "s2Pn-WmpyeU_"
      },
      "outputs": [],
      "source": [
        "import pandas as pd\n",
        "\n",
        "df = pd.read_csv('/dataset/2015-2024-monthly-tourist-arrivals-sl-csv.csv')\n",
        "df.info()"
      ]
    },
    {
      "cell_type": "code",
      "execution_count": null,
      "metadata": {
        "id": "6rxJASEG4adl"
      },
      "outputs": [],
      "source": [
        "df.head()"
      ]
    },
    {
      "cell_type": "code",
      "execution_count": null,
      "metadata": {
        "id": "01LwscJk4gPm"
      },
      "outputs": [],
      "source": [
        "df.drop(df.columns[3], axis=1, inplace=True)\n",
        "df.head()"
      ]
    },
    {
      "cell_type": "code",
      "execution_count": null,
      "metadata": {
        "id": "iNXIVILWOWZJ"
      },
      "outputs": [],
      "source": [
        "from datetime import datetime\n",
        "\n",
        "month_map = {\n",
        "    'January': 1, 'February': 2, 'March': 3, 'April': 4,\n",
        "    'May': 5, 'June': 6, 'July': 7, 'August': 8,\n",
        "    'September': 9, 'October': 10, 'November': 11, 'December': 12\n",
        "}\n",
        "\n",
        "df['Date'] = df.apply(lambda row: datetime(row['Year'], month_map[row['Month']], 1), axis=1)\n",
        "\n",
        "df_v1 = df[['Date', 'Arrivals']].copy()\n",
        "\n",
        "df_v1.loc[df_v1['Date'].dt.month == 2, 'Date'] = df_v1['Date'].apply(\n",
        "    lambda x: x.replace(day=28) if not (x.year % 4 == 0 and (x.year % 100 != 0 or x.year % 400 == 0)) else x.replace(day=29)\n",
        ")\n",
        "\n",
        "df_v1.set_index('Date', inplace=True)\n",
        "\n",
        "df_v1.head()\n"
      ]
    },
    {
      "cell_type": "code",
      "execution_count": null,
      "metadata": {
        "id": "eQwgWfwRKZAE"
      },
      "outputs": [],
      "source": [
        "df_v1.isnull().values.any()"
      ]
    },
    {
      "cell_type": "code",
      "execution_count": null,
      "metadata": {
        "id": "oqCHhKRDzkIl"
      },
      "outputs": [],
      "source": [
        "df_v1.describe()"
      ]
    },
    {
      "cell_type": "code",
      "execution_count": null,
      "metadata": {
        "id": "vPnB0sZ7Mi3_"
      },
      "outputs": [],
      "source": [
        "time_series = df_v1[['Arrivals']]\n",
        "time_series.tail()"
      ]
    },
    {
      "cell_type": "code",
      "execution_count": null,
      "metadata": {
        "id": "Dv_CtD_XNArD"
      },
      "outputs": [],
      "source": [
        "import matplotlib.pylab as plt\n",
        "plt.plot(time_series)\n",
        "plt.ylabel('Total Number of Tourists Arrivals')\n",
        "plt.grid()\n",
        "plt.tight_layout()\n",
        "plt.show()"
      ]
    },
    {
      "cell_type": "code",
      "execution_count": 9,
      "metadata": {
        "id": "ms8pvNTOerKG"
      },
      "outputs": [],
      "source": [
        "from statsmodels.tsa.stattools import adfuller\n",
        "\n",
        "def test_stationarity(timeseries):\n",
        "\n",
        "    dftest = adfuller(timeseries, autolag='AIC')\n",
        "    dfoutput = pd.Series(dftest[0:4], index=['Test Statistic','p-value','#Lags Used','Number of Observations Used'])\n",
        "    for key,value in dftest[4].items():\n",
        "        dfoutput['Critical Value (%s)'%key] = value\n",
        "\n",
        "    critical_value = dftest[4]['5%']\n",
        "    test_statistic = dftest[0]\n",
        "    alpha = 1e-3\n",
        "    pvalue = dftest[1]\n",
        "    if pvalue < alpha and test_statistic < critical_value:\n",
        "        print(\"X is stationary\")\n",
        "        return True\n",
        "    else:\n",
        "        print(\"X is not stationary\")\n",
        "        return False"
      ]
    },
    {
      "cell_type": "code",
      "execution_count": null,
      "metadata": {
        "id": "i-kND704VXXJ"
      },
      "outputs": [],
      "source": [
        "time_series_diff = time_series['Arrivals']\n",
        "d = 0\n",
        "while test_stationarity(time_series_diff) is False:\n",
        "    time_series_diff = time_series_diff.diff().dropna()\n",
        "    d = d + 1"
      ]
    },
    {
      "cell_type": "code",
      "execution_count": null,
      "metadata": {
        "id": "EFCdqPvdgGvh"
      },
      "outputs": [],
      "source": [
        "d"
      ]
    },
    {
      "cell_type": "code",
      "execution_count": null,
      "metadata": {
        "id": "rw6ZV9YIgJm7"
      },
      "outputs": [],
      "source": [
        "import statsmodels.api as sm\n",
        "\n",
        "ts_cycle, ts_trend = sm.tsa.filters.hpfilter(time_series['Arrivals'])\n",
        "from statsmodels.graphics.tsaplots import plot_acf, plot_pacf\n",
        "plot_acf(ts_trend, lags =12)\n",
        "plt.show()\n",
        "plot_pacf(ts_trend, lags =12)\n",
        "plt.show()"
      ]
    },
    {
      "cell_type": "code",
      "execution_count": null,
      "metadata": {
        "id": "_CILGkzCi--q"
      },
      "outputs": [],
      "source": [
        "from statsmodels.tsa.statespace.sarimax import SARIMAX\n",
        "\n",
        "p = 9\n",
        "q = 1\n",
        "model = SARIMAX(time_series, order=(p,d,q))\n",
        "model_fit = model.fit(disp=1,solver='powell')\n",
        "\n",
        "fcast = model_fit.get_prediction(start=1, end=len(time_series))\n",
        "ts_p = fcast.predicted_mean\n",
        "ts_ci = fcast.conf_int()\n",
        "\n",
        "\n",
        "plt.show()\n",
        "plt.plot(ts_p,label='prediction')\n",
        "plt.plot(time_series,color='red',label='actual')\n",
        "plt.fill_between(ts_ci.index[1:],\n",
        "                ts_ci.iloc[1:, 0],\n",
        "                ts_ci.iloc[1:, 1], color='k', alpha=.2)\n",
        "\n",
        "plt.ylabel('Total Number of Tourists Arrivals')\n",
        "plt.legend()\n",
        "plt.tight_layout()\n",
        "plt.grid()\n",
        "plt.show()"
      ]
    }
  ],
  "metadata": {
    "colab": {
      "provenance": []
    },
    "kernelspec": {
      "display_name": "Python 3",
      "name": "python3"
    },
    "language_info": {
      "name": "python"
    }
  },
  "nbformat": 4,
  "nbformat_minor": 0
}

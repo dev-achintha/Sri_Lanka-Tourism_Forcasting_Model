{
 "cells": [
  {
   "cell_type": "code",
   "execution_count": 1,
   "metadata": {},
   "outputs": [
    {
     "ename": "ModuleNotFoundError",
     "evalue": "No module named 'statsmodels'",
     "output_type": "error",
     "traceback": [
      "\u001b[0;31m---------------------------------------------------------------------------\u001b[0m",
      "\u001b[0;31mModuleNotFoundError\u001b[0m                       Traceback (most recent call last)",
      "Cell \u001b[0;32mIn[1], line 3\u001b[0m\n\u001b[1;32m      1\u001b[0m \u001b[38;5;28;01mimport\u001b[39;00m \u001b[38;5;21;01mpandas\u001b[39;00m \u001b[38;5;28;01mas\u001b[39;00m \u001b[38;5;21;01mpd\u001b[39;00m\n\u001b[1;32m      2\u001b[0m \u001b[38;5;28;01mimport\u001b[39;00m \u001b[38;5;21;01mmatplotlib\u001b[39;00m\u001b[38;5;21;01m.\u001b[39;00m\u001b[38;5;21;01mpylab\u001b[39;00m \u001b[38;5;28;01mas\u001b[39;00m \u001b[38;5;21;01mplt\u001b[39;00m\n\u001b[0;32m----> 3\u001b[0m \u001b[38;5;28;01mfrom\u001b[39;00m \u001b[38;5;21;01mstatsmodels\u001b[39;00m\u001b[38;5;21;01m.\u001b[39;00m\u001b[38;5;21;01mtsa\u001b[39;00m\u001b[38;5;21;01m.\u001b[39;00m\u001b[38;5;21;01mstattools\u001b[39;00m \u001b[38;5;28;01mimport\u001b[39;00m adfuller\n\u001b[1;32m      4\u001b[0m \u001b[38;5;28;01mfrom\u001b[39;00m \u001b[38;5;21;01mstatsmodels\u001b[39;00m\u001b[38;5;21;01m.\u001b[39;00m\u001b[38;5;21;01mgraphics\u001b[39;00m\u001b[38;5;21;01m.\u001b[39;00m\u001b[38;5;21;01mtsaplots\u001b[39;00m \u001b[38;5;28;01mimport\u001b[39;00m plot_acf, plot_pacf\n\u001b[1;32m      5\u001b[0m \u001b[38;5;28;01mfrom\u001b[39;00m \u001b[38;5;21;01mstatsmodels\u001b[39;00m\u001b[38;5;21;01m.\u001b[39;00m\u001b[38;5;21;01mtsa\u001b[39;00m\u001b[38;5;21;01m.\u001b[39;00m\u001b[38;5;21;01mstatespace\u001b[39;00m\u001b[38;5;21;01m.\u001b[39;00m\u001b[38;5;21;01msarimax\u001b[39;00m \u001b[38;5;28;01mimport\u001b[39;00m SARIMAX\n",
      "\u001b[0;31mModuleNotFoundError\u001b[0m: No module named 'statsmodels'"
     ]
    }
   ],
   "source": [
    "import pandas as pd\n",
    "import matplotlib.pylab as plt\n",
    "from statsmodels.tsa.stattools import adfuller\n",
    "from statsmodels.graphics.tsaplots import plot_acf, plot_pacf\n",
    "from statsmodels.tsa.statespace.sarimax import SARIMAX\n",
    "from sklearn.model_selection import train_test_split"
   ]
  },
  {
   "cell_type": "code",
   "execution_count": null,
   "metadata": {},
   "outputs": [],
   "source": [
    "# Load dataset\n",
    "df = pd.read_csv('/dataset/2015-2024-monthly-tourist-arrivals-sl-csv.csv')\n",
    "df.head()"
   ]
  },
  {
   "cell_type": "code",
   "execution_count": null,
   "metadata": {},
   "outputs": [],
   "source": [
    "# Check for missing values and fill them if necessary\n",
    "df_v1 = df[['Arrivals']].dropna()"
   ]
  },
  {
   "cell_type": "code",
   "execution_count": null,
   "metadata": {},
   "outputs": [],
   "source": [
    "# Plot the time series data to visualize trends\n",
    "plt.plot(df_v1)\n",
    "plt.ylabel('Total Number of Tourists Arrivals')\n",
    "plt.grid()\n",
    "plt.tight_layout()\n",
    "plt.show()\n",
    "\n",
    "# Function to check stationarity with ADF test\n",
    "def test_stationarity(timeseries):\n",
    "    dftest = adfuller(timeseries)\n",
    "    dfoutput = pd.Series(dftest[0:4], index=['Test Statistic','p-value','#Lags Used','Number of Observations Used'])\n",
    "    for key, value in dftest[4].items():\n",
    "        dfoutput['Critical Value (%s)'%key] = value\n",
    "\n",
    "    print(dfoutput)\n",
    "    \n",
    "    critical_value = dftest[4]['5%']\n",
    "    test_statistic = dftest[0]\n",
    "    pvalue = dftest[1]\n",
    "    \n",
    "    if pvalue < 0.05 and test_statistic < critical_value:\n",
    "        print(\"The series is stationary.\")\n",
    "        return True\n",
    "    else:\n",
    "        print(\"The series is not stationary.\")\n",
    "        return False\n",
    "\n",
    "# Test for stationarity and apply differencing if necessary\n",
    "time_series_diff = df_v1['Arrivals']\n",
    "d = 0\n",
    "while not test_stationarity(time_series_diff):\n",
    "    time_series_diff = time_series_diff.diff().dropna()\n",
    "    d += 1\n",
    "\n",
    "print(f'Differencing order: {d}')\n",
    "\n",
    "# Plot ACF and PACF to determine p and q\n",
    "plot_acf(time_series_diff, lags=20)\n",
    "plt.show()\n",
    "\n",
    "plot_pacf(time_series_diff, lags=20)\n",
    "plt.show()\n",
    "\n",
    "# Split the dataset into train and test sets\n",
    "train_size = int(len(df_v1) * 0.8)\n",
    "train, test = df_v1[:train_size], df_v1[train_size:]\n",
    "\n",
    "# Set SARIMA parameters based on ACF/PACF and seasonality\n",
    "p, q = 1, 1  # Modify based on your ACF/PACF plots\n",
    "P, D, Q, m = 1, 0, 1, 12  # Assuming yearly seasonality (m=12)\n",
    "\n",
    "# Build and fit the SARIMA model\n",
    "model = SARIMAX(train, order=(p, d, q), seasonal_order=(P, D, Q, m))\n",
    "model_fit = model.fit(disp=False)\n",
    "\n",
    "# Forecast for the test set\n",
    "forecast = model_fit.get_forecast(steps=len(test))\n",
    "predicted_mean = forecast.predicted_mean\n",
    "confidence_intervals = forecast.conf_int()\n",
    "\n",
    "# Plot actual vs predicted with confidence intervals\n",
    "plt.plot(train.index, train, label='Training Data')\n",
    "plt.plot(test.index, test, label='Actual Test Data', color='red')\n",
    "plt.plot(test.index, predicted_mean, label='Predicted Test Data', color='green')\n",
    "plt.fill_between(test.index, confidence_intervals.iloc[:, 0], confidence_intervals.iloc[:, 1], color='gray', alpha=0.2)\n",
    "\n",
    "plt.ylabel('Total Number of Tourists Arrivals')\n",
    "plt.legend()\n",
    "plt.grid()\n",
    "plt.tight_layout()\n",
    "plt.show()\n",
    "\n",
    "# Print summary of the model\n",
    "print(model_fit.summary())\n"
   ]
  }
 ],
 "metadata": {
  "kernelspec": {
   "display_name": "Python 3 (ipykernel)",
   "language": "python",
   "name": "python3"
  },
  "language_info": {
   "codemirror_mode": {
    "name": "ipython",
    "version": 3
   },
   "file_extension": ".py",
   "mimetype": "text/x-python",
   "name": "python",
   "nbconvert_exporter": "python",
   "pygments_lexer": "ipython3",
   "version": "3.12.1"
  }
 },
 "nbformat": 4,
 "nbformat_minor": 2
}

{
  "cells": [
    {
      "cell_type": "code",
      "execution_count": 9,
      "metadata": {
        "id": "MeNdMTGs-w7M"
      },
      "outputs": [],
      "source": [
        "import pandas as pd\n",
        "import numpy as np\n",
        "from prophet import Prophet\n",
        "import matplotlib.pyplot as plt\n",
        "from sklearn.metrics import mean_absolute_error"
      ]
    },
    {
      "cell_type": "code",
      "execution_count": 10,
      "metadata": {
        "colab": {
          "base_uri": "https://localhost:8080/",
          "height": 206
        },
        "id": "oNqtBdi6FUGi",
        "outputId": "2f524362-0bec-40c0-868b-d8956f3f8d21"
      },
      "outputs": [
        {
          "data": {
            "text/html": [
              "<div>\n",
              "<style scoped>\n",
              "    .dataframe tbody tr th:only-of-type {\n",
              "        vertical-align: middle;\n",
              "    }\n",
              "\n",
              "    .dataframe tbody tr th {\n",
              "        vertical-align: top;\n",
              "    }\n",
              "\n",
              "    .dataframe thead th {\n",
              "        text-align: right;\n",
              "    }\n",
              "</style>\n",
              "<table border=\"1\" class=\"dataframe\">\n",
              "  <thead>\n",
              "    <tr style=\"text-align: right;\">\n",
              "      <th></th>\n",
              "      <th>Year</th>\n",
              "      <th>Month</th>\n",
              "      <th>Arrivals</th>\n",
              "    </tr>\n",
              "  </thead>\n",
              "  <tbody>\n",
              "    <tr>\n",
              "      <th>0</th>\n",
              "      <td>2014</td>\n",
              "      <td>January</td>\n",
              "      <td>146575</td>\n",
              "    </tr>\n",
              "    <tr>\n",
              "      <th>1</th>\n",
              "      <td>2014</td>\n",
              "      <td>February</td>\n",
              "      <td>141878</td>\n",
              "    </tr>\n",
              "    <tr>\n",
              "      <th>2</th>\n",
              "      <td>2014</td>\n",
              "      <td>March</td>\n",
              "      <td>133048</td>\n",
              "    </tr>\n",
              "    <tr>\n",
              "      <th>3</th>\n",
              "      <td>2014</td>\n",
              "      <td>April</td>\n",
              "      <td>112631</td>\n",
              "    </tr>\n",
              "    <tr>\n",
              "      <th>4</th>\n",
              "      <td>2014</td>\n",
              "      <td>May</td>\n",
              "      <td>90046</td>\n",
              "    </tr>\n",
              "  </tbody>\n",
              "</table>\n",
              "</div>"
            ],
            "text/plain": [
              "   Year     Month Arrivals\n",
              "0  2014   January   146575\n",
              "1  2014  February   141878\n",
              "2  2014     March   133048\n",
              "3  2014     April   112631\n",
              "4  2014       May    90046"
            ]
          },
          "execution_count": 10,
          "metadata": {},
          "output_type": "execute_result"
        }
      ],
      "source": [
        "(pd.read_csv('https://raw.githubusercontent.com/dev-achintha/Sri_Lanka-Tourism_Forcasting_Model/prophet/dataset/2014-2024-monthly-tourist-arrivals-sl-csv.csv')).head()"
      ]
    },
    {
      "cell_type": "code",
      "execution_count": 12,
      "metadata": {
        "colab": {
          "base_uri": "https://localhost:8080/",
          "height": 206
        },
        "id": "dA-Gie67FVi9",
        "outputId": "b4bf03ae-223d-4221-f820-803082ea5606"
      },
      "outputs": [
        {
          "data": {
            "text/html": [
              "<div>\n",
              "<style scoped>\n",
              "    .dataframe tbody tr th:only-of-type {\n",
              "        vertical-align: middle;\n",
              "    }\n",
              "\n",
              "    .dataframe tbody tr th {\n",
              "        vertical-align: top;\n",
              "    }\n",
              "\n",
              "    .dataframe thead th {\n",
              "        text-align: right;\n",
              "    }\n",
              "</style>\n",
              "<table border=\"1\" class=\"dataframe\">\n",
              "  <thead>\n",
              "    <tr style=\"text-align: right;\">\n",
              "      <th></th>\n",
              "      <th>YEAR</th>\n",
              "      <th>COUNTRY</th>\n",
              "      <th>JANUARY</th>\n",
              "      <th>FEBRUARY</th>\n",
              "      <th>MARCH</th>\n",
              "      <th>APRIL</th>\n",
              "      <th>MAY</th>\n",
              "      <th>JUNE</th>\n",
              "      <th>JULY</th>\n",
              "      <th>AUGUST</th>\n",
              "      <th>SEPTEMBER</th>\n",
              "      <th>OCTOBER</th>\n",
              "      <th>NOVEMBER</th>\n",
              "      <th>DECEMBER</th>\n",
              "      <th>TOTAL UP TO END OF DECEMBER</th>\n",
              "    </tr>\n",
              "  </thead>\n",
              "  <tbody>\n",
              "    <tr>\n",
              "      <th>0</th>\n",
              "      <td>2018</td>\n",
              "      <td>AFGHANISTAN</td>\n",
              "      <td>83.0</td>\n",
              "      <td>150.0</td>\n",
              "      <td>112.0</td>\n",
              "      <td>40.0</td>\n",
              "      <td>108.0</td>\n",
              "      <td>44.0</td>\n",
              "      <td>47.0</td>\n",
              "      <td>78.0</td>\n",
              "      <td>34.0</td>\n",
              "      <td>41</td>\n",
              "      <td>52</td>\n",
              "      <td>72</td>\n",
              "      <td>861.0</td>\n",
              "    </tr>\n",
              "    <tr>\n",
              "      <th>1</th>\n",
              "      <td>2019</td>\n",
              "      <td>AFGHANISTAN</td>\n",
              "      <td>49.0</td>\n",
              "      <td>47.0</td>\n",
              "      <td>59.0</td>\n",
              "      <td>38.0</td>\n",
              "      <td>2.0</td>\n",
              "      <td>12.0</td>\n",
              "      <td>47.0</td>\n",
              "      <td>54.0</td>\n",
              "      <td>50.0</td>\n",
              "      <td>22</td>\n",
              "      <td>55</td>\n",
              "      <td>38</td>\n",
              "      <td>473.0</td>\n",
              "    </tr>\n",
              "    <tr>\n",
              "      <th>2</th>\n",
              "      <td>2020</td>\n",
              "      <td>AFGHANISTAN</td>\n",
              "      <td>65.0</td>\n",
              "      <td>64.0</td>\n",
              "      <td>17.0</td>\n",
              "      <td>0.0</td>\n",
              "      <td>0.0</td>\n",
              "      <td>0.0</td>\n",
              "      <td>0.0</td>\n",
              "      <td>0.0</td>\n",
              "      <td>0.0</td>\n",
              "      <td>0</td>\n",
              "      <td>0</td>\n",
              "      <td>0</td>\n",
              "      <td>146.0</td>\n",
              "    </tr>\n",
              "    <tr>\n",
              "      <th>3</th>\n",
              "      <td>2021</td>\n",
              "      <td>AFGHANISTAN</td>\n",
              "      <td>0.0</td>\n",
              "      <td>0.0</td>\n",
              "      <td>1.0</td>\n",
              "      <td>1.0</td>\n",
              "      <td>1.0</td>\n",
              "      <td>1.0</td>\n",
              "      <td>0.0</td>\n",
              "      <td>1.0</td>\n",
              "      <td>4.0</td>\n",
              "      <td>0</td>\n",
              "      <td>1</td>\n",
              "      <td>5</td>\n",
              "      <td>15.0</td>\n",
              "    </tr>\n",
              "    <tr>\n",
              "      <th>4</th>\n",
              "      <td>2022</td>\n",
              "      <td>AFGHANISTAN</td>\n",
              "      <td>0.0</td>\n",
              "      <td>2.0</td>\n",
              "      <td>16.0</td>\n",
              "      <td>0.0</td>\n",
              "      <td>1.0</td>\n",
              "      <td>0.0</td>\n",
              "      <td>2.0</td>\n",
              "      <td>0.0</td>\n",
              "      <td>0.0</td>\n",
              "      <td>0</td>\n",
              "      <td>7</td>\n",
              "      <td>11</td>\n",
              "      <td>39.0</td>\n",
              "    </tr>\n",
              "  </tbody>\n",
              "</table>\n",
              "</div>"
            ],
            "text/plain": [
              "   YEAR      COUNTRY  JANUARY  FEBRUARY  MARCH  APRIL    MAY  JUNE  JULY  \\\n",
              "0  2018  AFGHANISTAN     83.0     150.0  112.0   40.0  108.0  44.0  47.0   \n",
              "1  2019  AFGHANISTAN     49.0      47.0   59.0   38.0    2.0  12.0  47.0   \n",
              "2  2020  AFGHANISTAN     65.0      64.0   17.0    0.0    0.0   0.0   0.0   \n",
              "3  2021  AFGHANISTAN      0.0       0.0    1.0    1.0    1.0   1.0   0.0   \n",
              "4  2022  AFGHANISTAN      0.0       2.0   16.0    0.0    1.0   0.0   2.0   \n",
              "\n",
              "   AUGUST  SEPTEMBER OCTOBER NOVEMBER DECEMBER  TOTAL UP TO END OF DECEMBER  \n",
              "0    78.0       34.0      41       52       72                        861.0  \n",
              "1    54.0       50.0      22       55       38                        473.0  \n",
              "2     0.0        0.0       0        0        0                        146.0  \n",
              "3     1.0        4.0       0        1        5                         15.0  \n",
              "4     0.0        0.0       0        7       11                         39.0  "
            ]
          },
          "execution_count": 12,
          "metadata": {},
          "output_type": "execute_result"
        }
      ],
      "source": [
        "(pd.read_csv('https://raw.githubusercontent.com/dev-achintha/Sri_Lanka-Tourism_Forcasting_Model/prophet/dataset/2018-2024-Country-based-monthly-tourist-arrivals-sl-csv.csv')).head()"
      ]
    },
    {
      "cell_type": "code",
      "execution_count": null,
      "metadata": {
        "colab": {
          "base_uri": "https://localhost:8080/",
          "height": 206
        },
        "id": "gS8uzdLS-w7N",
        "outputId": "4e653eaf-193b-4cc2-b794-96cc863279ac"
      },
      "outputs": [],
      "source": [
        "# Load the first dataset (2014-2024 monthly tourist arrivals)\n",
        "df1 = pd.read_csv('https://raw.githubusercontent.com/dev-achintha/Sri_Lanka-Tourism_Forcasting_Model/prophet/dataset/2014-2024-monthly-tourist-arrivals-sl-csv.csv')\n",
        "df1 = df1.drop(columns=['PercentageChange'], errors='ignore')\n",
        "df1['ds'] = pd.to_datetime(df1['Year'].astype(str) + '-' + df1['Month'], format='%Y-%B')\n",
        "df1.rename(columns={'Arrivals': 'y'}, inplace=True)\n",
        "df1 = df1[['ds', 'y']]"
      ]
    },
    {
      "cell_type": "code",
      "execution_count": 8,
      "metadata": {},
      "outputs": [],
      "source": [
        "# Load the second dataset (2018-2024 country-based monthly tourist arrivals)\n",
        "df2 = pd.read_csv('https://raw.githubusercontent.com/dev-achintha/Sri_Lanka-Tourism_Forcasting_Model/prophet/dataset/2018-2024-Country-based-monthly-tourist-arrivals-sl-csv.csv')\n",
        "\n",
        "# Melt the second dataset to long format\n",
        "df2_melted = df2.melt(id_vars=['YEAR', 'COUNTRY'], \n",
        "                      var_name='MONTH', \n",
        "                      value_name='ARRIVALS')"
      ]
    },
    {
      "cell_type": "code",
      "execution_count": null,
      "metadata": {},
      "outputs": [],
      "source": [
        "\n",
        "df2_melted.to_csv('melted_tourist_arrivals.csv', index=False)"
      ]
    },
    {
      "cell_type": "code",
      "execution_count": null,
      "metadata": {},
      "outputs": [],
      "source": [
        "# Convert month names to numbers\n",
        "month_dict = {\n",
        "    'JANUARY': 1, 'FEBRUARY': 2, 'MARCH': 3, 'APRIL': 4, 'MAY': 5, 'JUNE': 6,\n",
        "    'JULY': 7, 'AUGUST': 8, 'SEPTEMBER': 9, 'OCTOBER': 10, 'NOVEMBER': 11, 'DECEMBER': 12\n",
        "}\n",
        "\n",
        "# Convert month names to numbers, handling non-month values\n",
        "df2_melted['MONTH'] = df2_melted['MONTH'].apply(lambda x: month_dict.get(str(x).upper(), np.nan))\n",
        "\n",
        "# Remove rows with invalid months\n",
        "# df2_melted = df2_melted.dropna(subset=['MONTH'])\n",
        "\n",
        "df2_melted.head()"
      ]
    },
    {
      "cell_type": "code",
      "execution_count": null,
      "metadata": {
        "colab": {
          "base_uri": "https://localhost:8080/",
          "height": 478
        },
        "id": "1n3Ao8Oc-w7N",
        "outputId": "94f20688-b00f-4d7b-94f6-0e7867a9135e"
      },
      "outputs": [],
      "source": [
        "from prophet import Prophet\n",
        "\n",
        "model = Prophet(yearly_seasonality=True, weekly_seasonality=True, daily_seasonality=False,\n",
        "                changepoint_prior_scale=0.1, n_changepoints=30)\n",
        "model.add_seasonality(name='monthly', period=30.5, fourier_order=5)\n",
        "# changepoints = ['2019-04-21', '2020-03-01', '2022-03-22', '2023-02-25']\n",
        "#     2019-04-21 Easter Bombings\n",
        "#     2020-03-01 Covid19 Pandemic\n",
        "#     2022-03-22 Dollar rate increses\n",
        "#     2023-02-25 Dollar rate decreases\n",
        "# model = Prophet(changepoints=changepoints)\n",
        "\n",
        "model.fit(df)"
      ]
    },
    {
      "cell_type": "code",
      "execution_count": null,
      "metadata": {
        "id": "7d4QEMaG-w7N",
        "outputId": "1932cb76-7fc6-4496-a255-99ac2b504419"
      },
      "outputs": [],
      "source": [
        "future_periods = 24\n",
        "\n",
        "future = model.make_future_dataframe(periods=future_periods, freq='M')\n",
        "\n",
        "forecast = model.predict(future)\n",
        "\n",
        "forecast[['ds', 'yhat', 'yhat_lower', 'yhat_upper']].tail()"
      ]
    },
    {
      "cell_type": "code",
      "execution_count": null,
      "metadata": {
        "id": "sxPo8-Nm-w7O",
        "outputId": "7ebb44ac-4ad3-4637-f59a-51c9113fc3ec"
      },
      "outputs": [],
      "source": [
        "import matplotlib.pyplot as plt\n",
        "\n",
        "fig = model.plot(forecast)\n",
        "plt.title('Tourism Forecast')\n",
        "plt.xlabel('Date')\n",
        "plt.ylabel('Tourist Arrivals')\n",
        "plt.show()\n"
      ]
    },
    {
      "cell_type": "code",
      "execution_count": null,
      "metadata": {
        "id": "-ONnud0c-w7O",
        "outputId": "002d6163-661c-4882-9321-81ce5018228f"
      },
      "outputs": [],
      "source": [
        "fig, ax = plt.subplots(figsize=(10, 6))\n",
        "\n",
        "ax.plot(df['ds'], df['y'], label='Actual Arrivals', color='blue')\n",
        "\n",
        "ax.plot(forecast['ds'], forecast['yhat'], label='Predicted Arrivals', color='red')\n",
        "\n",
        "ax.set_title('Actual vs Predicted Tourist Arrivals')\n",
        "ax.set_xlabel('Date')\n",
        "ax.set_ylabel('Arrivals')\n",
        "ax.legend()\n",
        "\n",
        "plt.show()\n"
      ]
    },
    {
      "cell_type": "code",
      "execution_count": null,
      "metadata": {
        "id": "4oWWXPlK-w7O",
        "outputId": "2f9c1a99-3320-450e-a5de-9c7e0030ef8a"
      },
      "outputs": [],
      "source": [
        "from sklearn.metrics import mean_absolute_error\n",
        "\n",
        "actual = df['y']\n",
        "predicted = forecast.loc[forecast['ds'].isin(df['ds']), 'yhat']\n",
        "\n",
        "mae = mean_absolute_error(actual, predicted)\n",
        "print(f\"Mean Absolute Error: {mae}\")\n"
      ]
    },
    {
      "cell_type": "code",
      "execution_count": null,
      "metadata": {
        "id": "i1nqD78eFeMR"
      },
      "outputs": [],
      "source": [
        "!apt-get install -y pandoc texlive-xetex texlive-fonts-recommended texlive-plain-generic"
      ]
    },
    {
      "cell_type": "code",
      "execution_count": null,
      "metadata": {
        "colab": {
          "base_uri": "https://localhost:8080/"
        },
        "id": "oQp5nlH7HfF2",
        "outputId": "ddc02713-93d1-461f-ed56-bc294c106ae8"
      },
      "outputs": [],
      "source": [
        "!jupyter nbconvert --to pdf /content/Sri_Lankan_TourismForecastModel_Prophet.ipynb"
      ]
    }
  ],
  "metadata": {
    "colab": {
      "provenance": []
    },
    "kernelspec": {
      "display_name": "Python 3",
      "language": "python",
      "name": "python3"
    },
    "language_info": {
      "codemirror_mode": {
        "name": "ipython",
        "version": 3
      },
      "file_extension": ".py",
      "mimetype": "text/x-python",
      "name": "python",
      "nbconvert_exporter": "python",
      "pygments_lexer": "ipython3",
      "version": "3.12.1"
    }
  },
  "nbformat": 4,
  "nbformat_minor": 0
}
